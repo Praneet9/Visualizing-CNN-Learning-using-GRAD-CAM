{
  "nbformat": 4,
  "nbformat_minor": 0,
  "metadata": {
    "colab": {
      "name": "GradCAM.ipynb",
      "provenance": [],
      "collapsed_sections": [],
      "authorship_tag": "ABX9TyOONnaB93NZ3UjHlwOw05t/",
      "include_colab_link": true
    },
    "kernelspec": {
      "name": "python3",
      "display_name": "Python 3"
    },
    "accelerator": "GPU"
  },
  "cells": [
    {
      "cell_type": "markdown",
      "metadata": {
        "id": "view-in-github",
        "colab_type": "text"
      },
      "source": [
        "<a href=\"https://colab.research.google.com/github/Praneet9/Visualizing-CNN-Learning-using-GRAD-CAM/blob/master/GradCAM.ipynb\" target=\"_parent\"><img src=\"https://colab.research.google.com/assets/colab-badge.svg\" alt=\"Open In Colab\"/></a>"
      ]
    },
    {
      "cell_type": "code",
      "metadata": {
        "id": "yIe5LYwjUaUc",
        "colab_type": "code",
        "colab": {}
      },
      "source": [
        "!mkdir ~/.kaggle\n",
        "!mv kaggle.json ~/.kaggle/"
      ],
      "execution_count": 0,
      "outputs": []
    },
    {
      "cell_type": "code",
      "metadata": {
        "id": "eA0gMX7LUk88",
        "colab_type": "code",
        "colab": {}
      },
      "source": [
        "!kaggle competitions download -c dogs-vs-cats"
      ],
      "execution_count": 0,
      "outputs": []
    },
    {
      "cell_type": "code",
      "metadata": {
        "id": "ffXmS98JVJq3",
        "colab_type": "code",
        "colab": {}
      },
      "source": [
        "!unzip train.zip"
      ],
      "execution_count": 0,
      "outputs": []
    },
    {
      "cell_type": "code",
      "metadata": {
        "id": "NF8WL9PeWyG0",
        "colab_type": "code",
        "colab": {}
      },
      "source": [
        "!mkdir train/dog\n",
        "!mkdir train/cat"
      ],
      "execution_count": 0,
      "outputs": []
    },
    {
      "cell_type": "code",
      "metadata": {
        "id": "m7KSA21PWyEE",
        "colab_type": "code",
        "colab": {}
      },
      "source": [
        "!mv train/dog.*jpg train/dog/\n",
        "!mv train/cat.*jpg train/cat/"
      ],
      "execution_count": 0,
      "outputs": []
    },
    {
      "cell_type": "code",
      "metadata": {
        "id": "pjSUa4MYcMR6",
        "colab_type": "code",
        "outputId": "74665291-b973-4ce2-cf0c-e35c71e27bfb",
        "colab": {
          "base_uri": "https://localhost:8080/",
          "height": 34
        }
      },
      "source": [
        "!rm -r train/.ipynb_checkpoints"
      ],
      "execution_count": 0,
      "outputs": [
        {
          "output_type": "stream",
          "text": [
            "rm: cannot remove 'train/.ipynb_checkpoints': No such file or directory\n"
          ],
          "name": "stdout"
        }
      ]
    },
    {
      "cell_type": "code",
      "metadata": {
        "id": "9Mp3jB45Vcpt",
        "colab_type": "code",
        "outputId": "327a619c-be04-4988-a742-bd91797fc3df",
        "colab": {
          "base_uri": "https://localhost:8080/",
          "height": 80
        }
      },
      "source": [
        "from keras.layers import Conv2D, Dense, Dropout, MaxPool2D, Flatten, Input, BatchNormalization\n",
        "from keras.models import Sequential, Model\n",
        "import numpy as np\n",
        "from keras.preprocessing.image import ImageDataGenerator\n",
        "from keras.callbacks import Callback\n",
        "import keras.backend as K\n",
        "import cv2\n",
        "import matplotlib.pyplot as plt\n",
        "import os\n",
        "\n",
        "%matplotlib inline"
      ],
      "execution_count": 0,
      "outputs": [
        {
          "output_type": "stream",
          "text": [
            "Using TensorFlow backend.\n"
          ],
          "name": "stderr"
        },
        {
          "output_type": "display_data",
          "data": {
            "text/html": [
              "<p style=\"color: red;\">\n",
              "The default version of TensorFlow in Colab will soon switch to TensorFlow 2.x.<br>\n",
              "We recommend you <a href=\"https://www.tensorflow.org/guide/migrate\" target=\"_blank\">upgrade</a> now \n",
              "or ensure your notebook will continue to use TensorFlow 1.x via the <code>%tensorflow_version 1.x</code> magic:\n",
              "<a href=\"https://colab.research.google.com/notebooks/tensorflow_version.ipynb\" target=\"_blank\">more info</a>.</p>\n"
            ],
            "text/plain": [
              "<IPython.core.display.HTML object>"
            ]
          },
          "metadata": {
            "tags": []
          }
        }
      ]
    },
    {
      "cell_type": "code",
      "metadata": {
        "id": "thIlWiEbMwX2",
        "colab_type": "code",
        "colab": {}
      },
      "source": [
        "image_width = 128\n",
        "image_height = 128\n",
        "channels = 3\n",
        "classes = 2"
      ],
      "execution_count": 0,
      "outputs": []
    },
    {
      "cell_type": "code",
      "metadata": {
        "id": "oVZb9RKqVlTM",
        "colab_type": "code",
        "colab": {}
      },
      "source": [
        "generator = ImageDataGenerator(rotation_range=15,\n",
        "    rescale=1./255,\n",
        "    shear_range=0.1,\n",
        "    zoom_range=0.2,\n",
        "    horizontal_flip=True,\n",
        "    width_shift_range=0.1,\n",
        "    height_shift_range=0.1,\n",
        "    validation_split=0.10)"
      ],
      "execution_count": 0,
      "outputs": []
    },
    {
      "cell_type": "code",
      "metadata": {
        "id": "UPpYvSGLZnTr",
        "colab_type": "code",
        "outputId": "a998aa1b-847e-4a29-c766-530a0a012736",
        "colab": {
          "base_uri": "https://localhost:8080/",
          "height": 51
        }
      },
      "source": [
        "train_gen = generator.flow_from_directory('train/', class_mode='categorical', target_size=(image_height, image_width), color_mode='rgb', subset='training', batch_size=256)\n",
        "\n",
        "test_gen = generator.flow_from_directory('train/', class_mode='categorical', target_size=(image_height, image_width), color_mode='rgb', subset='validation', batch_size=256)"
      ],
      "execution_count": 0,
      "outputs": [
        {
          "output_type": "stream",
          "text": [
            "Found 22500 images belonging to 2 classes.\n",
            "Found 2500 images belonging to 2 classes.\n"
          ],
          "name": "stdout"
        }
      ]
    },
    {
      "cell_type": "code",
      "metadata": {
        "id": "Mf5Uxk60bXSd",
        "colab_type": "code",
        "outputId": "f1a1e567-da26-4019-e437-26f501dceaad",
        "colab": {
          "base_uri": "https://localhost:8080/",
          "height": 34
        }
      },
      "source": [
        "train_gen.class_indices"
      ],
      "execution_count": 0,
      "outputs": [
        {
          "output_type": "execute_result",
          "data": {
            "text/plain": [
              "{'cat': 0, 'dog': 1}"
            ]
          },
          "metadata": {
            "tags": []
          },
          "execution_count": 5
        }
      ]
    },
    {
      "cell_type": "code",
      "metadata": {
        "id": "IvsZDNKqZp-G",
        "colab_type": "code",
        "colab": {}
      },
      "source": [
        "def preprocess_image(image_path, width, height, channels):\n",
        "  image = cv2.imread(image_path)\n",
        "  image = cv2.cvtColor(image, cv2.COLOR_BGR2RGB)\n",
        "  image = cv2.resize(image, (width, height))\n",
        "  image = image.reshape(1, width, height, channels)\n",
        "  image = image / 255.\n",
        "  return image"
      ],
      "execution_count": 0,
      "outputs": []
    },
    {
      "cell_type": "code",
      "metadata": {
        "id": "Sd0uchdZOH-o",
        "colab_type": "code",
        "colab": {}
      },
      "source": [
        "cat = preprocess_image('cat.jpg', image_width, image_height, channels)\n",
        "dog = preprocess_image('dog.jpg', image_width, image_height, channels)\n",
        "cat_dog = preprocess_image('cat_dog.jpg', image_width, image_height, channels)"
      ],
      "execution_count": 0,
      "outputs": []
    },
    {
      "cell_type": "code",
      "metadata": {
        "id": "aYhJekvtZvoo",
        "colab_type": "code",
        "outputId": "7eaf8e8d-0b30-4a76-d75a-54c7575dfc16",
        "colab": {
          "base_uri": "https://localhost:8080/",
          "height": 34
        }
      },
      "source": [
        "cat.shape"
      ],
      "execution_count": 0,
      "outputs": [
        {
          "output_type": "execute_result",
          "data": {
            "text/plain": [
              "(1, 128, 128, 3)"
            ]
          },
          "metadata": {
            "tags": []
          },
          "execution_count": 8
        }
      ]
    },
    {
      "cell_type": "code",
      "metadata": {
        "id": "uYvapvdtZyHZ",
        "colab_type": "code",
        "colab": {}
      },
      "source": [
        "class Vis(Callback):\n",
        "\n",
        "    def __init__(self, dog_idx, cat_idx, layer_idx, dog, cat, cat_dog, height, width):\n",
        "      self.dog_idx = dog_idx\n",
        "      self.cat_idx = cat_idx\n",
        "      self.layer_idx = layer_idx\n",
        "      self.width = width\n",
        "      self.height = height\n",
        "      self.dog = dog\n",
        "      self.cat = cat\n",
        "      self.cat_dog = cat_dog\n",
        "\n",
        "    def save_heatmap(self, image, op_idx, path):\n",
        "      grads = K.gradients(self.model.output[:,op_idx], self.model.layers[self.layer_idx].output)[0]\n",
        "\n",
        "      pooled_grads = K.mean(grads,axis=(0,1,2))\n",
        "      iterate = K.function([self.model.input],[pooled_grads,self.model.layers[self.layer_idx].output[0]])\n",
        "      pooled_grads_value, conv_layer_output = iterate([image])\n",
        "\n",
        "      for i in range(self.model.layers[self.layer_idx].output.shape[-1]):\n",
        "        conv_layer_output[:,:,i] *= pooled_grads_value[i]\n",
        "      heatmap = np.mean(conv_layer_output,axis=-1)\n",
        "\n",
        "      for x in range(heatmap.shape[0]):\n",
        "        for y in range(heatmap.shape[1]):\n",
        "          heatmap[x,y] = np.max(heatmap[x,y],0)\n",
        "\n",
        "      heatmap = np.maximum(heatmap,0)\n",
        "\n",
        "      if np.max(heatmap) > 0.0:\n",
        "        heatmap /= np.max(heatmap)\n",
        "\n",
        "        heatmap = cv2.resize(heatmap, (self.width, self.height))\n",
        "        merged = cv2.merge((heatmap, heatmap, heatmap))\n",
        "\n",
        "        image1 = image[0]*255.\n",
        "        image2 = merged*255.\n",
        "\n",
        "        image1 = image1.astype(np.float32)\n",
        "        image2 = image2.astype(np.float32)\n",
        "\n",
        "        merged = cv2.addWeighted(image1, 0.3, image2, 0.5, 1)\n",
        "        merged = cv2.cvtColor(merged, cv2.COLOR_RGB2BGR)\n",
        "\n",
        "        path = path.split('/')\n",
        "\n",
        "        heatmap_path = os.path.join(path[0], path[1], 'heatmap', path[2])\n",
        "        cv2.imwrite(heatmap_path, image2)\n",
        "\n",
        "        cv2.imwrite(os.path.join(path[0], path[1], path[2]), merged)\n",
        "\n",
        "    def on_epoch_end(self, epoch, logs={}):\n",
        "\n",
        "      self.save_heatmap(self.cat, self.cat_idx, 'visualisations/cat/{}.jpg'.format(str(epoch+1)))\n",
        "\n",
        "      self.save_heatmap(self.dog, self.dog_idx, 'visualisations/dog/{}.jpg'.format(str(epoch+1)))\n",
        "\n",
        "      self.save_heatmap(self.cat_dog, self.cat_idx, 'visualisations/cat_with_dog/{}.jpg'.format(str(epoch+1)))\n",
        "\n",
        "      self.save_heatmap(self.cat_dog, self.dog_idx, 'visualisations/dog_with_cat/{}.jpg'.format(str(epoch+1)))"
      ],
      "execution_count": 0,
      "outputs": []
    },
    {
      "cell_type": "code",
      "metadata": {
        "id": "WF48KRBQZ08M",
        "colab_type": "code",
        "colab": {}
      },
      "source": [
        "vis_callback = Vis(train_gen.class_indices['dog'], train_gen.class_indices['cat'], -8, dog, cat, cat_dog, image_height, image_width)"
      ],
      "execution_count": 0,
      "outputs": []
    },
    {
      "cell_type": "code",
      "metadata": {
        "id": "8qxUsyo-Z3CY",
        "colab_type": "code",
        "colab": {}
      },
      "source": [
        "model = Sequential()\n",
        "model.add(Conv2D(64, (3, 3), activation='relu', input_shape=(image_height, image_width, channels), padding='same'))\n",
        "model.add(BatchNormalization())\n",
        "model.add(MaxPool2D(pool_size=(2, 2)))\n",
        "model.add(Dropout(0.5))\n",
        "\n",
        "model.add(Conv2D(128, (3, 3), strides=(1, 1), activation='relu'))\n",
        "model.add(BatchNormalization())\n",
        "model.add(MaxPool2D(pool_size=(2, 2)))\n",
        "model.add(Dropout(0.5))\n",
        "\n",
        "model.add(Conv2D(256, (3, 3), activation='relu'))\n",
        "model.add(BatchNormalization())\n",
        "model.add(MaxPool2D(pool_size=(2, 2)))\n",
        "model.add(Dropout(0.5))\n",
        "\n",
        "model.add(Conv2D(128, (3, 3), activation='relu'))\n",
        "model.add(BatchNormalization())\n",
        "model.add(Dropout(0.5))\n",
        "\n",
        "model.add(Conv2D(64, (3, 3), activation='relu'))\n",
        "model.add(BatchNormalization())\n",
        "model.add(Dropout(0.5))\n",
        "\n",
        "model.add(Flatten())\n",
        "model.add(Dense(256, activation='relu'))\n",
        "model.add(BatchNormalization())\n",
        "model.add(Dropout(0.3))\n",
        "\n",
        "model.add(Dense(classes, activation='softmax'))\n",
        "model.compile(loss='categorical_crossentropy',\n",
        "              optimizer='adam', metrics=['accuracy'])"
      ],
      "execution_count": 0,
      "outputs": []
    },
    {
      "cell_type": "code",
      "metadata": {
        "id": "h_qPzlwiaHCI",
        "colab_type": "code",
        "outputId": "c8a105ea-f87b-468d-c386-4f577792c66b",
        "colab": {
          "base_uri": "https://localhost:8080/",
          "height": 935
        }
      },
      "source": [
        "model.summary()"
      ],
      "execution_count": 0,
      "outputs": [
        {
          "output_type": "stream",
          "text": [
            "Model: \"sequential_1\"\n",
            "_________________________________________________________________\n",
            "Layer (type)                 Output Shape              Param #   \n",
            "=================================================================\n",
            "conv2d_1 (Conv2D)            (None, 128, 128, 64)      1792      \n",
            "_________________________________________________________________\n",
            "batch_normalization_1 (Batch (None, 128, 128, 64)      256       \n",
            "_________________________________________________________________\n",
            "max_pooling2d_1 (MaxPooling2 (None, 64, 64, 64)        0         \n",
            "_________________________________________________________________\n",
            "dropout_1 (Dropout)          (None, 64, 64, 64)        0         \n",
            "_________________________________________________________________\n",
            "conv2d_2 (Conv2D)            (None, 62, 62, 128)       73856     \n",
            "_________________________________________________________________\n",
            "batch_normalization_2 (Batch (None, 62, 62, 128)       512       \n",
            "_________________________________________________________________\n",
            "max_pooling2d_2 (MaxPooling2 (None, 31, 31, 128)       0         \n",
            "_________________________________________________________________\n",
            "dropout_2 (Dropout)          (None, 31, 31, 128)       0         \n",
            "_________________________________________________________________\n",
            "conv2d_3 (Conv2D)            (None, 29, 29, 256)       295168    \n",
            "_________________________________________________________________\n",
            "batch_normalization_3 (Batch (None, 29, 29, 256)       1024      \n",
            "_________________________________________________________________\n",
            "max_pooling2d_3 (MaxPooling2 (None, 14, 14, 256)       0         \n",
            "_________________________________________________________________\n",
            "dropout_3 (Dropout)          (None, 14, 14, 256)       0         \n",
            "_________________________________________________________________\n",
            "conv2d_4 (Conv2D)            (None, 12, 12, 128)       295040    \n",
            "_________________________________________________________________\n",
            "batch_normalization_4 (Batch (None, 12, 12, 128)       512       \n",
            "_________________________________________________________________\n",
            "dropout_4 (Dropout)          (None, 12, 12, 128)       0         \n",
            "_________________________________________________________________\n",
            "conv2d_5 (Conv2D)            (None, 10, 10, 64)        73792     \n",
            "_________________________________________________________________\n",
            "batch_normalization_5 (Batch (None, 10, 10, 64)        256       \n",
            "_________________________________________________________________\n",
            "dropout_5 (Dropout)          (None, 10, 10, 64)        0         \n",
            "_________________________________________________________________\n",
            "flatten_1 (Flatten)          (None, 6400)              0         \n",
            "_________________________________________________________________\n",
            "dense_1 (Dense)              (None, 256)               1638656   \n",
            "_________________________________________________________________\n",
            "batch_normalization_6 (Batch (None, 256)               1024      \n",
            "_________________________________________________________________\n",
            "dropout_6 (Dropout)          (None, 256)               0         \n",
            "_________________________________________________________________\n",
            "dense_2 (Dense)              (None, 2)                 514       \n",
            "=================================================================\n",
            "Total params: 2,382,402\n",
            "Trainable params: 2,380,610\n",
            "Non-trainable params: 1,792\n",
            "_________________________________________________________________\n"
          ],
          "name": "stdout"
        }
      ]
    },
    {
      "cell_type": "code",
      "metadata": {
        "id": "sDbaUTqxZ6HT",
        "colab_type": "code",
        "outputId": "6b43f26c-d1cf-4a40-8794-f0b217692a38",
        "colab": {
          "base_uri": "https://localhost:8080/",
          "height": 1000
        }
      },
      "source": [
        "history = model.fit_generator(train_gen, epochs=50, callbacks=[vis_callback], validation_data=test_gen)"
      ],
      "execution_count": 0,
      "outputs": [
        {
          "output_type": "stream",
          "text": [
            "88/88 [==============================] - 159s 2s/step - loss: 0.9204 - acc: 0.5724 - val_loss: 0.9459 - val_acc: 0.5344\n",
            "Epoch 2/50\n",
            "88/88 [==============================] - 146s 2s/step - loss: 0.6597 - acc: 0.6362 - val_loss: 0.6303 - val_acc: 0.6532\n",
            "Epoch 3/50\n",
            "88/88 [==============================] - 147s 2s/step - loss: 0.6011 - acc: 0.6789 - val_loss: 0.7088 - val_acc: 0.6200\n",
            "Epoch 4/50\n",
            "88/88 [==============================] - 148s 2s/step - loss: 0.5555 - acc: 0.7123 - val_loss: 0.7152 - val_acc: 0.6412\n",
            "Epoch 5/50\n",
            "88/88 [==============================] - 144s 2s/step - loss: 0.5291 - acc: 0.7282 - val_loss: 0.6812 - val_acc: 0.6800\n",
            "Epoch 6/50\n",
            "88/88 [==============================] - 146s 2s/step - loss: 0.5116 - acc: 0.7456 - val_loss: 1.0811 - val_acc: 0.6308\n",
            "Epoch 7/50\n",
            "88/88 [==============================] - 146s 2s/step - loss: 0.4898 - acc: 0.7577 - val_loss: 0.7692 - val_acc: 0.6692\n",
            "Epoch 8/50\n",
            "88/88 [==============================] - 145s 2s/step - loss: 0.4692 - acc: 0.7723 - val_loss: 1.2582 - val_acc: 0.6020\n",
            "Epoch 9/50\n",
            "88/88 [==============================] - 148s 2s/step - loss: 0.4503 - acc: 0.7853 - val_loss: 1.0519 - val_acc: 0.6392\n",
            "Epoch 10/50\n",
            "88/88 [==============================] - 146s 2s/step - loss: 0.4288 - acc: 0.7981 - val_loss: 0.6513 - val_acc: 0.7244\n",
            "Epoch 11/50\n",
            "88/88 [==============================] - 145s 2s/step - loss: 0.4100 - acc: 0.8072 - val_loss: 0.9735 - val_acc: 0.6432\n",
            "Epoch 12/50\n",
            "88/88 [==============================] - 148s 2s/step - loss: 0.3955 - acc: 0.8201 - val_loss: 0.8222 - val_acc: 0.7032\n",
            "Epoch 13/50\n",
            "88/88 [==============================] - 146s 2s/step - loss: 0.3794 - acc: 0.8278 - val_loss: 1.4179 - val_acc: 0.6216\n",
            "Epoch 14/50\n",
            "88/88 [==============================] - 143s 2s/step - loss: 0.3698 - acc: 0.8336 - val_loss: 2.2830 - val_acc: 0.5556\n",
            "Epoch 15/50\n",
            "88/88 [==============================] - 144s 2s/step - loss: 0.3523 - acc: 0.8441 - val_loss: 0.4431 - val_acc: 0.7968\n",
            "Epoch 16/50\n",
            "88/88 [==============================] - 143s 2s/step - loss: 0.3403 - acc: 0.8476 - val_loss: 0.6517 - val_acc: 0.7396\n",
            "Epoch 17/50\n",
            "88/88 [==============================] - 142s 2s/step - loss: 0.3248 - acc: 0.8570 - val_loss: 0.3694 - val_acc: 0.8348\n",
            "Epoch 18/50\n",
            "88/88 [==============================] - 143s 2s/step - loss: 0.3131 - acc: 0.8624 - val_loss: 0.9503 - val_acc: 0.7092\n",
            "Epoch 19/50\n",
            "88/88 [==============================] - 143s 2s/step - loss: 0.3047 - acc: 0.8672 - val_loss: 0.3607 - val_acc: 0.8384\n",
            "Epoch 20/50\n",
            "88/88 [==============================] - 142s 2s/step - loss: 0.2873 - acc: 0.8732 - val_loss: 0.9494 - val_acc: 0.7124\n",
            "Epoch 21/50\n",
            "88/88 [==============================] - 142s 2s/step - loss: 0.2845 - acc: 0.8747 - val_loss: 1.1671 - val_acc: 0.6676\n",
            "Epoch 22/50\n",
            "88/88 [==============================] - 143s 2s/step - loss: 0.2652 - acc: 0.8860 - val_loss: 0.3604 - val_acc: 0.8408\n",
            "Epoch 23/50\n",
            "88/88 [==============================] - 143s 2s/step - loss: 0.2624 - acc: 0.8890 - val_loss: 0.3416 - val_acc: 0.8616\n",
            "Epoch 24/50\n",
            "88/88 [==============================] - 144s 2s/step - loss: 0.2542 - acc: 0.8883 - val_loss: 0.3320 - val_acc: 0.8596\n",
            "Epoch 25/50\n",
            "88/88 [==============================] - 142s 2s/step - loss: 0.2450 - acc: 0.8958 - val_loss: 0.7781 - val_acc: 0.7332\n",
            "Epoch 26/50\n",
            "88/88 [==============================] - 141s 2s/step - loss: 0.2400 - acc: 0.8973 - val_loss: 0.3024 - val_acc: 0.8772\n",
            "Epoch 27/50\n",
            "88/88 [==============================] - 140s 2s/step - loss: 0.2379 - acc: 0.8995 - val_loss: 0.5951 - val_acc: 0.7852\n",
            "Epoch 28/50\n",
            "88/88 [==============================] - 139s 2s/step - loss: 0.2309 - acc: 0.9044 - val_loss: 0.3151 - val_acc: 0.8512\n",
            "Epoch 29/50\n",
            "88/88 [==============================] - 139s 2s/step - loss: 0.2283 - acc: 0.9062 - val_loss: 0.4625 - val_acc: 0.8164\n",
            "Epoch 30/50\n",
            "88/88 [==============================] - 139s 2s/step - loss: 0.2198 - acc: 0.9084 - val_loss: 0.4850 - val_acc: 0.8028\n",
            "Epoch 31/50\n",
            "88/88 [==============================] - 140s 2s/step - loss: 0.2134 - acc: 0.9119 - val_loss: 0.2483 - val_acc: 0.9048\n",
            "Epoch 32/50\n",
            "88/88 [==============================] - 139s 2s/step - loss: 0.2119 - acc: 0.9101 - val_loss: 0.3635 - val_acc: 0.8472\n",
            "Epoch 33/50\n",
            "88/88 [==============================] - 140s 2s/step - loss: 0.2088 - acc: 0.9122 - val_loss: 0.8958 - val_acc: 0.7152\n",
            "Epoch 34/50\n",
            "88/88 [==============================] - 137s 2s/step - loss: 0.2063 - acc: 0.9146 - val_loss: 0.3498 - val_acc: 0.8468\n",
            "Epoch 35/50\n",
            "88/88 [==============================] - 137s 2s/step - loss: 0.1979 - acc: 0.9167 - val_loss: 0.2611 - val_acc: 0.8904\n",
            "Epoch 36/50\n",
            "88/88 [==============================] - 136s 2s/step - loss: 0.1997 - acc: 0.9154 - val_loss: 0.3053 - val_acc: 0.8696\n",
            "Epoch 37/50\n",
            "88/88 [==============================] - 139s 2s/step - loss: 0.1948 - acc: 0.9205 - val_loss: 0.3374 - val_acc: 0.8540\n",
            "Epoch 38/50\n",
            "88/88 [==============================] - 135s 2s/step - loss: 0.1917 - acc: 0.9210 - val_loss: 0.2370 - val_acc: 0.8920\n",
            "Epoch 39/50\n",
            "88/88 [==============================] - 136s 2s/step - loss: 0.1879 - acc: 0.9229 - val_loss: 0.2181 - val_acc: 0.9116\n",
            "Epoch 40/50\n",
            "88/88 [==============================] - 138s 2s/step - loss: 0.1896 - acc: 0.9209 - val_loss: 0.2022 - val_acc: 0.9168\n",
            "Epoch 41/50\n",
            "88/88 [==============================] - 136s 2s/step - loss: 0.1822 - acc: 0.9249 - val_loss: 0.2591 - val_acc: 0.8908\n",
            "Epoch 42/50\n",
            "88/88 [==============================] - 139s 2s/step - loss: 0.1857 - acc: 0.9213 - val_loss: 0.2374 - val_acc: 0.9000\n",
            "Epoch 43/50\n",
            "88/88 [==============================] - 137s 2s/step - loss: 0.1837 - acc: 0.9239 - val_loss: 0.2245 - val_acc: 0.9028\n",
            "Epoch 44/50\n",
            "88/88 [==============================] - 135s 2s/step - loss: 0.1800 - acc: 0.9250 - val_loss: 0.3053 - val_acc: 0.8716\n",
            "Epoch 45/50\n",
            "88/88 [==============================] - 135s 2s/step - loss: 0.1761 - acc: 0.9274 - val_loss: 0.2675 - val_acc: 0.8856\n",
            "Epoch 46/50\n",
            "88/88 [==============================] - 134s 2s/step - loss: 0.1743 - acc: 0.9298 - val_loss: 0.2560 - val_acc: 0.9040\n",
            "Epoch 47/50\n",
            "88/88 [==============================] - 132s 2s/step - loss: 0.1737 - acc: 0.9274 - val_loss: 0.3094 - val_acc: 0.8832\n",
            "Epoch 48/50\n",
            "88/88 [==============================] - 132s 2s/step - loss: 0.1642 - acc: 0.9337 - val_loss: 0.2759 - val_acc: 0.8860\n",
            "Epoch 49/50\n",
            "88/88 [==============================] - 133s 2s/step - loss: 0.1678 - acc: 0.9299 - val_loss: 0.1599 - val_acc: 0.9388\n",
            "Epoch 50/50\n",
            "88/88 [==============================] - 132s 2s/step - loss: 0.1680 - acc: 0.9324 - val_loss: 0.3862 - val_acc: 0.8452\n"
          ],
          "name": "stdout"
        }
      ]
    },
    {
      "cell_type": "code",
      "metadata": {
        "id": "YgTRFZIdaDIW",
        "colab_type": "code",
        "colab": {}
      },
      "source": [
        "!zip -r visualisations.zip visualisations/"
      ],
      "execution_count": 0,
      "outputs": []
    },
    {
      "cell_type": "code",
      "metadata": {
        "id": "B0Wtq2KezBqz",
        "colab_type": "code",
        "colab": {}
      },
      "source": [
        "import pickle"
      ],
      "execution_count": 0,
      "outputs": []
    },
    {
      "cell_type": "code",
      "metadata": {
        "id": "0n8AiNjNHjjE",
        "colab_type": "code",
        "colab": {}
      },
      "source": [
        "pickle.dump(history, open('history.pickle', 'wb'))"
      ],
      "execution_count": 0,
      "outputs": []
    },
    {
      "cell_type": "code",
      "metadata": {
        "id": "SaYyyyYAJqJo",
        "colab_type": "code",
        "outputId": "1b6df474-dedf-469f-a792-90294ff598e6",
        "colab": {
          "base_uri": "https://localhost:8080/",
          "height": 34
        }
      },
      "source": [
        "history.history.keys()"
      ],
      "execution_count": 0,
      "outputs": [
        {
          "output_type": "execute_result",
          "data": {
            "text/plain": [
              "dict_keys(['val_loss', 'val_acc', 'loss', 'acc'])"
            ]
          },
          "metadata": {
            "tags": []
          },
          "execution_count": 19
        }
      ]
    },
    {
      "cell_type": "code",
      "metadata": {
        "id": "Ufnmga28TpkO",
        "colab_type": "code",
        "colab": {}
      },
      "source": [
        ""
      ],
      "execution_count": 0,
      "outputs": []
    }
  ]
}